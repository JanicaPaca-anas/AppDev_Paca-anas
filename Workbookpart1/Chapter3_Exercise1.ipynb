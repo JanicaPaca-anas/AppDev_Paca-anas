{
  "nbformat": 4,
  "nbformat_minor": 0,
  "metadata": {
    "colab": {
      "provenance": []
    },
    "kernelspec": {
      "name": "python3",
      "display_name": "Python 3"
    },
    "language_info": {
      "name": "python"
    }
  },
  "cells": [
    {
      "cell_type": "code",
      "execution_count": null,
      "metadata": {
        "id": "1KqVGWFSiIdq"
      },
      "outputs": [],
      "source": []
    },
    {
      "cell_type": "markdown",
      "source": [
        "## EXERCISES"
      ],
      "metadata": {
        "id": "eA9jTg12iUj2"
      }
    },
    {
      "cell_type": "markdown",
      "source": [
        "#### Exercise 1"
      ],
      "metadata": {
        "id": "y-p3EtIRimZ4"
      }
    },
    {
      "cell_type": "markdown",
      "source": [
        "In the code below, which will never print regardless of the value for x? Edit the code to correct the error.\n",
        "\n",
        "```python\n",
        "if x > 0 :\n",
        "    print('Above 0')\n",
        "elif x >  10 :\n",
        "    print('Above 10')\n",
        "elif x > 50 :\n",
        "    print('Above 50')\n",
        "elif x >  20 :\n",
        "    print('Above 20')\n",
        "else :\n",
        "    print('Something else')\n",
        "```"
      ],
      "metadata": {
        "id": "4b6fJ1_lioZo"
      }
    },
    {
      "cell_type": "code",
      "source": [
        "x = 5\n",
        "\n",
        "if x > 0:\n",
        "    print('Above 0')\n",
        "elif x <= 10:\n",
        "    print('Above 10')\n",
        "elif x > 50:\n",
        "    print('Above 50')\n",
        "elif x > 20:\n",
        "    print('Above 20')\n",
        "else:\n",
        "    print('Something else')"
      ],
      "metadata": {
        "colab": {
          "base_uri": "https://localhost:8080/"
        },
        "id": "jO5-tizuoDq5",
        "outputId": "c2793b19-0a43-4054-b22e-cffd536ffc5f"
      },
      "execution_count": 1,
      "outputs": [
        {
          "output_type": "stream",
          "name": "stdout",
          "text": [
            "Above 0\n"
          ]
        }
      ]
    },
    {
      "cell_type": "markdown",
      "source": [
        "#### Exercise 2"
      ],
      "metadata": {
        "id": "IQ8rWYdFiqcZ"
      }
    },
    {
      "cell_type": "markdown",
      "source": [
        "Write your salary computation to give an employee 1.5 times the hourly rate for hours worked above 40 hours. Example:\n",
        "\n",
        "    Enter Hours: 45\n",
        "    Enter Rate: 10\n",
        "    Pay: 475.0\n",
        "    \n"
      ],
      "metadata": {
        "id": "kIx4rY42isYY"
      }
    },
    {
      "cell_type": "code",
      "source": [
        "\n",
        "hours = float(input(\"Enter Hours: \"))\n",
        "\n",
        "rate = float(input(\"Enter Rate: \"))\n",
        "\n",
        "if hours > 40:\n",
        "    overtime_hours = hours - 40\n",
        "    overtime_pay = overtime_hours * rate * 1.5\n",
        "    gross_pay = 40 * rate + overtime_pay\n",
        "else:\n",
        "    gross_pay = hours * rate\n",
        "\n",
        "print(\"Pay: \", gross_pay)"
      ],
      "metadata": {
        "colab": {
          "base_uri": "https://localhost:8080/"
        },
        "id": "t5LqtyF5oSro",
        "outputId": "b807ae2e-0ce9-4ef2-bbe8-24131375ae8f"
      },
      "execution_count": 2,
      "outputs": [
        {
          "output_type": "stream",
          "name": "stdout",
          "text": [
            "Enter Hours: 45\n",
            "Enter Rate: 10\n",
            "Pay:  475.0\n"
          ]
        }
      ]
    },
    {
      "cell_type": "markdown",
      "source": [
        "## CHALLENGE"
      ],
      "metadata": {
        "id": "NzMR27CDiuK3"
      }
    },
    {
      "cell_type": "markdown",
      "source": [
        "Write a program to prompt for a score between 0 and 100 and print a grade using the following table:\n",
        "\n",
        "    Score           Grade\n",
        "    [ 97, 100]      1.0\n",
        "    [ 93,  97)\t\t1.25\n",
        "    [ 89,  93)\t\t1.5\n",
        "    [ 85,  89)\t\t1.75\n",
        "    [ 81,  85)\t\t2.0\n",
        "    [ 77,  81)\t\t2.25\n",
        "    [ 74,  77)\t\t2.5\n",
        "    [ 0,   74)\t\t3.0\n",
        "\n",
        "Adapted from [PEW] E3.3\n",
        "<br>"
      ],
      "metadata": {
        "id": "KySWA-EriwSK"
      }
    },
    {
      "cell_type": "code",
      "source": [
        "\n",
        "score = float(input(\"Enter a score between 0 and 100: \"))\n",
        "\n",
        "if score >= 97 and score <= 100:\n",
        "    grade = 1.0\n",
        "elif score >= 93 and score < 97:\n",
        "    grade = 1.25\n",
        "elif score >= 89 and score < 93:\n",
        "    grade = 1.5\n",
        "elif score >= 85 and score < 89:\n",
        "    grade = 1.75\n",
        "elif score >= 81 and score < 85:\n",
        "    grade = 2.0\n",
        "elif score >= 77 and score < 81:\n",
        "    grade = 2.25\n",
        "elif score >= 74 and score < 77:\n",
        "    grade = 2.5\n",
        "elif score >= 0 and score < 74:\n",
        "    grade = 3.0\n",
        "else:\n",
        "    print(\"Invalid score. Please enter a score between 0 and 100.\")\n",
        "    exit()\n",
        "\n",
        "print(\"Grade: \", grade)"
      ],
      "metadata": {
        "colab": {
          "base_uri": "https://localhost:8080/"
        },
        "id": "muET3gPfpKjE",
        "outputId": "33d552fb-1985-44b4-b66c-29eb36f060e7"
      },
      "execution_count": 3,
      "outputs": [
        {
          "output_type": "stream",
          "name": "stdout",
          "text": [
            "Enter a score between 0 and 100: 97\n",
            "Grade:  1.0\n"
          ]
        }
      ]
    },
    {
      "cell_type": "markdown",
      "source": [],
      "metadata": {
        "id": "1tZ50n2OiyLY"
      }
    }
  ]
}