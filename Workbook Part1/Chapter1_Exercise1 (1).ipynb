{
  "nbformat": 4,
  "nbformat_minor": 0,
  "metadata": {
    "colab": {
      "provenance": []
    },
    "kernelspec": {
      "name": "python3",
      "display_name": "Python 3"
    },
    "language_info": {
      "name": "python"
    }
  },
  "cells": [
    {
      "cell_type": "code",
      "execution_count": null,
      "metadata": {
        "colab": {
          "base_uri": "https://localhost:8080/"
        },
        "id": "BJ_Bm-B-jEpI",
        "outputId": "27c30510-ead7-4d97-b1c5-7556e1e3bdf7"
      },
      "outputs": [
        {
          "output_type": "stream",
          "name": "stdout",
          "text": [
            "Drive already mounted at /content/drive; to attempt to forcibly remount, call drive.mount(\"/content/drive\", force_remount=True).\n"
          ]
        }
      ],
      "source": [
        "from google.colab import drive\n",
        "drive.mount('/content/drive')"
      ]
    },
    {
      "cell_type": "code",
      "source": [
        "!pwd"
      ],
      "metadata": {
        "colab": {
          "base_uri": "https://localhost:8080/"
        },
        "id": "E35tzvUyxXYy",
        "outputId": "98e4edfa-3f33-4a8b-c910-34f2c3e69d5c"
      },
      "execution_count": null,
      "outputs": [
        {
          "output_type": "stream",
          "name": "stdout",
          "text": [
            "/content/drive/MyDrive/CN_Paca-anas/Python WorkBook 1\n"
          ]
        }
      ]
    },
    {
      "cell_type": "code",
      "source": [
        "%cd /content/drive/MyDrive/CN_Paca-anas/Python WorkBook 1"
      ],
      "metadata": {
        "colab": {
          "base_uri": "https://localhost:8080/"
        },
        "id": "AXd9PEZfxZlw",
        "outputId": "361fef77-d199-46a7-85f1-a817ffd27e80"
      },
      "execution_count": null,
      "outputs": [
        {
          "output_type": "stream",
          "name": "stdout",
          "text": [
            "/content/drive/MyDrive/CN_Paca-anas/Python WorkBook 1\n"
          ]
        }
      ]
    },
    {
      "cell_type": "code",
      "source": [
        "!dir\n"
      ],
      "metadata": {
        "id": "ujsasVsXxiRT"
      },
      "execution_count": null,
      "outputs": []
    },
    {
      "cell_type": "code",
      "source": [
        "!pwd"
      ],
      "metadata": {
        "colab": {
          "base_uri": "https://localhost:8080/"
        },
        "id": "058YuaPP3EYD",
        "outputId": "ee924b45-1907-4402-ca5a-e21f482e8012"
      },
      "execution_count": null,
      "outputs": [
        {
          "output_type": "stream",
          "name": "stdout",
          "text": [
            "/content/drive/MyDrive/CN_Paca-anas/Python WorkBook 1\n"
          ]
        }
      ]
    },
    {
      "cell_type": "markdown",
      "source": [
        "#### Exercise 1"
      ],
      "metadata": {
        "id": "Ci-PvSZav-2q"
      }
    },
    {
      "cell_type": "markdown",
      "source": [
        "Each line of code below contains an error. Fix the error and explain in a comment the reason for the error."
      ],
      "metadata": {
        "id": "OBpDVdoJwB0i"
      }
    },
    {
      "cell_type": "code",
      "source": [
        "Print('Hello world!')"
      ],
      "metadata": {
        "id": "BIRYPHGzwM-j"
      },
      "execution_count": null,
      "outputs": []
    },
    {
      "cell_type": "code",
      "source": [
        "print('Hello world!')"
      ],
      "metadata": {
        "colab": {
          "base_uri": "https://localhost:8080/"
        },
        "id": "LLvLxXKRwOhC",
        "outputId": "2664ed7f-9bcb-46c9-991b-1226a8d27809"
      },
      "execution_count": null,
      "outputs": [
        {
          "output_type": "stream",
          "name": "stdout",
          "text": [
            "Hello world!\n"
          ]
        }
      ]
    },
    {
      "cell_type": "code",
      "source": [
        "print('Hello world!')"
      ],
      "metadata": {
        "colab": {
          "base_uri": "https://localhost:8080/"
        },
        "id": "m8ktwKWWwSb6",
        "outputId": "4f2f53f0-7da2-4664-f18c-91da4a72a380"
      },
      "execution_count": null,
      "outputs": [
        {
          "output_type": "stream",
          "name": "stdout",
          "text": [
            "Hello world!\n"
          ]
        }
      ]
    },
    {
      "cell_type": "code",
      "source": [
        "print('Hello world!')"
      ],
      "metadata": {
        "colab": {
          "base_uri": "https://localhost:8080/"
        },
        "id": "c6r7OQw5wV96",
        "outputId": "14a86118-461a-4579-8b2e-d8dcf6095677"
      },
      "execution_count": null,
      "outputs": [
        {
          "output_type": "stream",
          "name": "stdout",
          "text": [
            "Hello world!\n"
          ]
        }
      ]
    },
    {
      "cell_type": "markdown",
      "source": [
        "#### Exercise 2"
      ],
      "metadata": {
        "id": "migNDbiGwa4w"
      }
    },
    {
      "cell_type": "code",
      "source": [
        "x = 43\n",
        "x = x + 1\n",
        "print(x)"
      ],
      "metadata": {
        "colab": {
          "base_uri": "https://localhost:8080/"
        },
        "id": "ZOtfbtAYwgoK",
        "outputId": "50aaff75-0226-4123-b344-44133d86df94"
      },
      "execution_count": null,
      "outputs": [
        {
          "output_type": "stream",
          "name": "stdout",
          "text": [
            "44\n"
          ]
        }
      ]
    },
    {
      "cell_type": "markdown",
      "source": [
        "#### Exercise 3"
      ],
      "metadata": {
        "id": "tohgQXm3wxTS"
      }
    },
    {
      "cell_type": "code",
      "source": [
        "x = 43\n",
        "x = x + 1\n",
        "print(x)"
      ],
      "metadata": {
        "colab": {
          "base_uri": "https://localhost:8080/"
        },
        "id": "nlz3XuMxw1H6",
        "outputId": "f7ef4e4b-4826-4432-a625-98c42c770b50"
      },
      "execution_count": null,
      "outputs": [
        {
          "output_type": "stream",
          "name": "stdout",
          "text": [
            "44\n"
          ]
        }
      ]
    }
  ]
}