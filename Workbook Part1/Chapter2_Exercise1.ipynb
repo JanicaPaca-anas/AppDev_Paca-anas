{
  "nbformat": 4,
  "nbformat_minor": 0,
  "metadata": {
    "colab": {
      "provenance": []
    },
    "kernelspec": {
      "name": "python3",
      "display_name": "Python 3"
    },
    "language_info": {
      "name": "python"
    }
  },
  "cells": [
    {
      "cell_type": "code",
      "execution_count": null,
      "metadata": {
        "colab": {
          "base_uri": "https://localhost:8080/"
        },
        "id": "0VMbXXpU5S7T",
        "outputId": "6fa59d8c-6118-4024-c008-ccb9c7a57af5"
      },
      "outputs": [
        {
          "output_type": "stream",
          "name": "stdout",
          "text": [
            "Mounted at /content/drive\n"
          ]
        }
      ],
      "source": [
        "from google.colab import drive\n",
        "drive.mount('/content/drive')"
      ]
    },
    {
      "cell_type": "code",
      "source": [
        "%cd /content/drive/MyDrive/CN_Paca-anas/Python WorkBook 1"
      ],
      "metadata": {
        "colab": {
          "base_uri": "https://localhost:8080/"
        },
        "id": "jKR38bt55jsG",
        "outputId": "c2ffd557-9595-4bd0-e82a-45ae7446f215"
      },
      "execution_count": null,
      "outputs": [
        {
          "output_type": "stream",
          "name": "stdout",
          "text": [
            "/content/drive/MyDrive/CN_Paca-anas/Python WorkBook 1\n"
          ]
        }
      ]
    },
    {
      "cell_type": "code",
      "source": [],
      "metadata": {
        "id": "kobme6l75obq"
      },
      "execution_count": null,
      "outputs": []
    },
    {
      "cell_type": "markdown",
      "source": [
        "However, operations on different types are prohibited"
      ],
      "metadata": {
        "id": "ArFVMtyq6lv1"
      }
    },
    {
      "cell_type": "code",
      "source": [
        "# only strings can be concatenated\n",
        "e = 'hello ' + 'there'\n",
        "e = e + 1"
      ],
      "metadata": {
        "id": "xGCM17Bq6n0p"
      },
      "execution_count": null,
      "outputs": []
    },
    {
      "cell_type": "markdown",
      "source": [
        "## EXERCISES\n"
      ],
      "metadata": {
        "id": "VZoNJc3I6pgq"
      }
    },
    {
      "cell_type": "markdown",
      "source": [
        "#### Exercise 1"
      ],
      "metadata": {
        "id": "QlrWJjwPhhfB"
      }
    },
    {
      "cell_type": "markdown",
      "source": [
        "Write a program that uses input to prompt a user for their name and then welcomes them.\n",
        "```\n",
        "Enter your name: Chuck\n",
        "Hello Chuck\n",
        "```\n",
        "\n",
        "[PEW] E2.2"
      ],
      "metadata": {
        "id": "dPwXov5-hkwI"
      }
    },
    {
      "cell_type": "code",
      "source": [
        "name = input('Enter your name: ')\n",
        "print('Hello', name)"
      ],
      "metadata": {
        "colab": {
          "base_uri": "https://localhost:8080/"
        },
        "id": "qs-uHn0vjr4I",
        "outputId": "0d8be586-dab4-4089-abad-e629a532d90c"
      },
      "execution_count": 1,
      "outputs": [
        {
          "output_type": "stream",
          "name": "stdout",
          "text": [
            "Enter your name: Janica\n",
            "Welcome Janica\n"
          ]
        }
      ]
    },
    {
      "cell_type": "markdown",
      "source": [
        "#### Exercise 2"
      ],
      "metadata": {
        "id": "GkitIYcChnsB"
      }
    },
    {
      "cell_type": "markdown",
      "source": [
        "Write a program to prompt the user for hours and rate per hour to compute gross pay.\n",
        "```\n",
        "Enter Hours: 35\n",
        "Enter Rate: 2.75\n",
        "Pay: 96.25\n",
        "```\n",
        "\n",
        "[PEW] E2.3\n",
        "\n",
        "\n"
      ],
      "metadata": {
        "id": "oCqVA1P-hp9K"
      }
    },
    {
      "cell_type": "code",
      "source": [
        "hours = float(input(\"Enter Hours: \"))\n",
        "\n",
        "rate = float(input(\"Enter Rate: \"))\n",
        "\n",
        "gross_pay = hours * rate\n",
        "\n",
        "print(\"Pay: \", gross_pay)"
      ],
      "metadata": {
        "colab": {
          "base_uri": "https://localhost:8080/"
        },
        "id": "neGzbS-GkOhP",
        "outputId": "afadff48-4211-4112-9b71-7519fb438078"
      },
      "execution_count": 3,
      "outputs": [
        {
          "output_type": "stream",
          "name": "stdout",
          "text": [
            "Enter Hours: 35\n",
            "Enter Rate: 2.75\n",
            "Pay:  96.25\n"
          ]
        }
      ]
    },
    {
      "cell_type": "markdown",
      "source": [
        "#### Exercise 3"
      ],
      "metadata": {
        "id": "2NAbi2B6hskp"
      }
    },
    {
      "cell_type": "markdown",
      "source": [
        "Assume that we execute the following assignment statements:\n",
        "```python\n",
        "width = 17\n",
        "height = 12.0\n",
        "```\n",
        "For each of the following expressions, write the value of the expression and the type (of the value of the expression).\n",
        "```python\n",
        "width//2\n",
        "width/2.0\n",
        "height/3\n",
        "1 + 2 * 5\n",
        "```\n",
        "\n",
        "[PEW] E2.4"
      ],
      "metadata": {
        "id": "hhG7ecrQhu5w"
      }
    },
    {
      "cell_type": "code",
      "source": [
        "width = 17\n",
        "height = 12.0\n",
        "\n",
        "value = width // 2\n",
        "print(f\"{value} ({type(value)})\")\n",
        "\n",
        "value = width / 2.0\n",
        "print(f\"{value} ({type(value)})\")\n",
        "\n",
        "\n",
        "value = height / 3\n",
        "print(f\"{value} ({type(value)})\")\n",
        "\n",
        "value = 1 + 2 * 5\n",
        "print(f\"{value} ({type(value)})\")"
      ],
      "metadata": {
        "colab": {
          "base_uri": "https://localhost:8080/"
        },
        "id": "UUczn6HslIs7",
        "outputId": "314dc242-29e7-43ac-942d-a5bdc8190441"
      },
      "execution_count": 5,
      "outputs": [
        {
          "output_type": "stream",
          "name": "stdout",
          "text": [
            "8 (<class 'int'>)\n",
            "8.5 (<class 'float'>)\n",
            "4.0 (<class 'float'>)\n",
            "11 (<class 'int'>)\n"
          ]
        }
      ]
    },
    {
      "cell_type": "markdown",
      "source": [
        "#### Exercise 4\n",
        "\n",
        "Write a program that uses input to prompt a user for a number and then outputs the square of the number\n",
        "```\n",
        "Enter a number: 3\n",
        "The square of 3 is 9\n",
        "```"
      ],
      "metadata": {
        "id": "zMJ9EwC2h08I"
      }
    },
    {
      "cell_type": "code",
      "source": [
        "number = int(input(\"Enter a number: \"))\n",
        "\n",
        "square = number*number\n",
        "\n",
        "print(\"The square of your number is: \", square)"
      ],
      "metadata": {
        "colab": {
          "base_uri": "https://localhost:8080/"
        },
        "id": "nmDiQXIjmBQR",
        "outputId": "424913e3-17da-40da-c6cc-7a07f85baf14"
      },
      "execution_count": 8,
      "outputs": [
        {
          "output_type": "stream",
          "name": "stdout",
          "text": [
            "Enter a number: 3\n",
            "The square of your number is:  9\n"
          ]
        }
      ]
    },
    {
      "cell_type": "markdown",
      "source": [
        "## CHALLENGE"
      ],
      "metadata": {
        "id": "_IuBqAQsh1fQ"
      }
    },
    {
      "cell_type": "markdown",
      "source": [
        "Write a program which prompts the user for a Celsius temperature, convert the temperature to Fahrenheit, and print out the converted temperature.\n",
        "\n",
        "[PEW] E2.5"
      ],
      "metadata": {
        "id": "YixNtPclh4RI"
      }
    },
    {
      "cell_type": "code",
      "source": [
        "\n",
        "celsius = float(input(\"Enter a Celsius temperature: \"))\n",
        "\n",
        "\n",
        "fahrenheit = (celsius * 9/5) + 32\n",
        "\n",
        "\n",
        "print(f\"{celsius} degrees Celsius is equivalent to {fahrenheit} degrees Fahrenheit.\")"
      ],
      "metadata": {
        "colab": {
          "base_uri": "https://localhost:8080/"
        },
        "id": "VSxn9SbSh8ow",
        "outputId": "812e5b41-3e99-4396-b1f5-ad055e942b26"
      },
      "execution_count": 9,
      "outputs": [
        {
          "output_type": "stream",
          "name": "stdout",
          "text": [
            "Enter a Celsius temperature: 36\n",
            "36.0 degrees Celsius is equivalent to 96.8 degrees Fahrenheit.\n"
          ]
        }
      ]
    }
  ]
}