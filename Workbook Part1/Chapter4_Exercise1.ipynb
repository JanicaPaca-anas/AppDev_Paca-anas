{
  "nbformat": 4,
  "nbformat_minor": 0,
  "metadata": {
    "colab": {
      "provenance": []
    },
    "kernelspec": {
      "name": "python3",
      "display_name": "Python 3"
    },
    "language_info": {
      "name": "python"
    }
  },
  "cells": [
    {
      "cell_type": "code",
      "execution_count": null,
      "metadata": {
        "id": "dzRGL0POi02w"
      },
      "outputs": [],
      "source": []
    },
    {
      "cell_type": "markdown",
      "source": [
        "#### Exercise 1"
      ],
      "metadata": {
        "id": "V3JQYieti4uv"
      }
    },
    {
      "cell_type": "markdown",
      "source": [
        "Rewrite your pay computation with time-and-a-half for overtime and create a function called compute pay which takes two parameters (hours and rate).\n",
        "\n",
        "    Enter Hours: 45\n",
        "    Enter Rate: 10\n",
        "    Pay: 475.0\n",
        "    \n",
        "[PEW] E4.6"
      ],
      "metadata": {
        "id": "4pzKxLHbi8pI"
      }
    },
    {
      "cell_type": "code",
      "source": [
        "def compute_pay(h, r):\n",
        "    if h > 40:\n",
        "        pay = 40 * r + 1.5 * r * (h - 40)\n",
        "    else:\n",
        "        pay = h * r\n",
        "    return pay\n",
        "\n",
        "hours = float(input(\"Enter Hours: \"))\n",
        "rate = float(input(\"Enter rate per hour: \"))\n",
        "\n",
        "pay = compute_pay(hours, rate)\n",
        "print(\"Pay: \", pay)"
      ],
      "metadata": {
        "colab": {
          "base_uri": "https://localhost:8080/"
        },
        "id": "-I_gGtRNp4WU",
        "outputId": "e7d6cce3-d351-4f49-815e-ccc5e75896b9"
      },
      "execution_count": 1,
      "outputs": [
        {
          "output_type": "stream",
          "name": "stdout",
          "text": [
            "Enter Hours: 45\n",
            "Enter rate per hour: 10\n",
            "Pay:  475.0\n"
          ]
        }
      ]
    },
    {
      "cell_type": "markdown",
      "source": [
        "#### Challenge"
      ],
      "metadata": {
        "id": "55n3f6RZi_B4"
      }
    },
    {
      "cell_type": "markdown",
      "source": [
        "Write a function called computegrade that takes a score as its parameter and returns a grade as a string using the following table:\n",
        "\n",
        "    Score           Grade\n",
        "    [ 97, 100]      1.0\n",
        "    [ 93,  97)\t\t1.25\n",
        "    [ 89,  93)\t\t1.5\n",
        "    [ 85,  89)\t\t1.75\n",
        "    [ 81,  85)\t\t2.0\n",
        "    [ 77,  81)\t\t2.25\n",
        "    [ 74,  77)\t\t2.5\n",
        "    [ 0,   74)\t\t3.0\n",
        "\n",
        "    Run the program repeatedly to test the various different values for input.\n",
        "    \n",
        "Adapted from [PEW] E4.6\n",
        "<br>"
      ],
      "metadata": {
        "id": "6HAfA_g_jBPP"
      }
    },
    {
      "cell_type": "code",
      "source": [
        "def compute_grade(score):\n",
        "    if score >= 97 and score <= 100:\n",
        "        grade = \"1.0\"\n",
        "    elif score >= 93 and score < 97:\n",
        "        grade = \"1.25\"\n",
        "    elif score >= 89 and score < 93:\n",
        "        grade = \"1.5\"\n",
        "    elif score >= 85 and score < 89:\n",
        "        grade = \"1.75\"\n",
        "    elif score >= 81 and score < 85:\n",
        "        grade = \"2.0\"\n",
        "    elif score >= 77 and score < 81:\n",
        "        grade = \"2.25\"\n",
        "    elif score >= 74 and score < 77:\n",
        "        grade = \"2.5\"\n",
        "    elif score >= 0 and score < 74:\n",
        "        grade = \"3.0\"\n",
        "    else:\n",
        "        grade = \"Invalid score\"\n",
        "    return grade\n",
        "\n",
        "while True:\n",
        "    score = float(input(\"Enter a score between 0 and 100: \"))\n",
        "    grade = compute_grade(score)\n",
        "    print(\"Grade: \", grade)"
      ],
      "metadata": {
        "colab": {
          "base_uri": "https://localhost:8080/",
          "height": 297
        },
        "id": "17NSzlenqF98",
        "outputId": "dabeb013-b1ae-43fd-854f-21336601ecde"
      },
      "execution_count": 3,
      "outputs": [
        {
          "name": "stdout",
          "output_type": "stream",
          "text": [
            "Enter a score between 0 and 100: 90\n",
            "Grade:  1.5\n",
            "Enter a score between 0 and 100: 0\n",
            "Grade:  3.0\n",
            "Enter a score between 0 and 100: g\n"
          ]
        },
        {
          "output_type": "error",
          "ename": "ValueError",
          "evalue": "could not convert string to float: 'g'",
          "traceback": [
            "\u001b[0;31m---------------------------------------------------------------------------\u001b[0m",
            "\u001b[0;31mValueError\u001b[0m                                Traceback (most recent call last)",
            "\u001b[0;32m<ipython-input-3-06f4a5270f1a>\u001b[0m in \u001b[0;36m<cell line: 22>\u001b[0;34m()\u001b[0m\n\u001b[1;32m     21\u001b[0m \u001b[0;34m\u001b[0m\u001b[0m\n\u001b[1;32m     22\u001b[0m \u001b[0;32mwhile\u001b[0m \u001b[0;32mTrue\u001b[0m\u001b[0;34m:\u001b[0m\u001b[0;34m\u001b[0m\u001b[0;34m\u001b[0m\u001b[0m\n\u001b[0;32m---> 23\u001b[0;31m     \u001b[0mscore\u001b[0m \u001b[0;34m=\u001b[0m \u001b[0mfloat\u001b[0m\u001b[0;34m(\u001b[0m\u001b[0minput\u001b[0m\u001b[0;34m(\u001b[0m\u001b[0;34m\"Enter a score between 0 and 100: \"\u001b[0m\u001b[0;34m)\u001b[0m\u001b[0;34m)\u001b[0m\u001b[0;34m\u001b[0m\u001b[0;34m\u001b[0m\u001b[0m\n\u001b[0m\u001b[1;32m     24\u001b[0m     \u001b[0mgrade\u001b[0m \u001b[0;34m=\u001b[0m \u001b[0mcompute_grade\u001b[0m\u001b[0;34m(\u001b[0m\u001b[0mscore\u001b[0m\u001b[0;34m)\u001b[0m\u001b[0;34m\u001b[0m\u001b[0;34m\u001b[0m\u001b[0m\n\u001b[1;32m     25\u001b[0m     \u001b[0mprint\u001b[0m\u001b[0;34m(\u001b[0m\u001b[0;34m\"Grade: \"\u001b[0m\u001b[0;34m,\u001b[0m \u001b[0mgrade\u001b[0m\u001b[0;34m)\u001b[0m\u001b[0;34m\u001b[0m\u001b[0;34m\u001b[0m\u001b[0m\n",
            "\u001b[0;31mValueError\u001b[0m: could not convert string to float: 'g'"
          ]
        }
      ]
    },
    {
      "cell_type": "markdown",
      "source": [],
      "metadata": {
        "id": "rEOn5JkOjDEg"
      }
    }
  ]
}