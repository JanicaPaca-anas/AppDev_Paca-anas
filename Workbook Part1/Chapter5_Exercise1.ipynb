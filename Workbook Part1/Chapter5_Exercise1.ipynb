{
  "nbformat": 4,
  "nbformat_minor": 0,
  "metadata": {
    "colab": {
      "provenance": []
    },
    "kernelspec": {
      "name": "python3",
      "display_name": "Python 3"
    },
    "language_info": {
      "name": "python"
    }
  },
  "cells": [
    {
      "cell_type": "markdown",
      "source": [
        "#### Exercise 1"
      ],
      "metadata": {
        "id": "q-Lka7VTjKPo"
      }
    },
    {
      "cell_type": "markdown",
      "source": [
        "Investigate on the difference between `is` and `==` given the following variables.\n",
        "```python\n",
        "a = 2\n",
        "b = 2.0\n",
        "c = a\n",
        "```"
      ],
      "metadata": {
        "id": "eKZoqf05jY7n"
      }
    },
    {
      "cell_type": "code",
      "source": [
        "a = 2\n",
        "b = 2.0\n",
        "c = a\n",
        "\n",
        "print(\"a is b: \", a is b)\n",
        "print(\"a == b: \", a == b)\n",
        "print(\"a is c: \", a is c)\n",
        "print(\"a == c: \", a == c)\n",
        "\n",
        "print(\"In Python, the 'is' keyword is used to test if two variables refer to the same object, while the '==' operator is used to test if the values of two variables are equal.\")"
      ],
      "metadata": {
        "colab": {
          "base_uri": "https://localhost:8080/"
        },
        "id": "ZWks7BNCqgLH",
        "outputId": "e8a523fb-4dd2-4d44-ea1b-562c0dd61a5a"
      },
      "execution_count": 3,
      "outputs": [
        {
          "output_type": "stream",
          "name": "stdout",
          "text": [
            "a is b:  False\n",
            "a == b:  True\n",
            "a is c:  True\n",
            "a == c:  True\n",
            "In Python, the 'is' keyword is used to test if two variables refer to the same object, while the '==' operator is used to test if the values of two variables are equal.\n"
          ]
        }
      ]
    },
    {
      "cell_type": "markdown",
      "source": [
        "#### Challenge 1"
      ],
      "metadata": {
        "id": "7EgfpSO5ja6Q"
      }
    },
    {
      "cell_type": "markdown",
      "source": [
        "Write a program which repeatedly reads numbers until the user enters \"done\". Once \"done\" is entered, print out the total, count, and average of the numbers. If the user enters anything other than a number, detect their mistake using try and except and print an error message and skip to the next number.\n",
        "\n",
        "    Enter a number: 4\n",
        "    Enter a number: 5\n",
        "    Enter a number: bad data\n",
        "    Invalid input\n",
        "    Enter a number: 7\n",
        "    Enter a number: done\n",
        "    16 3 5.333333333333333\n",
        "    \n",
        "[PEW] E5.1"
      ],
      "metadata": {
        "id": "abPzivGujcmH"
      }
    },
    {
      "cell_type": "code",
      "source": [
        "total = 0\n",
        "count = 0\n",
        "\n",
        "while True:\n",
        "    try:\n",
        "        num = input(\"Enter a number: \")\n",
        "        if num == \"done\":\n",
        "            break\n",
        "        num = float(num)\n",
        "        total += num\n",
        "        count += 1\n",
        "    except:\n",
        "        print(\"Invalid input\")\n",
        "        continue\n",
        "\n",
        "if count > 0:\n",
        "    average = total / count\n",
        "    print(f\"Total: {total} Count: {count} Average: {average}\")\n",
        "else:\n",
        "    print(\"No numbers were entered.\")"
      ],
      "metadata": {
        "colab": {
          "base_uri": "https://localhost:8080/"
        },
        "id": "Ljg-RtYYrgSi",
        "outputId": "97270587-ba20-454f-eb40-90a9fb3bf296"
      },
      "execution_count": 4,
      "outputs": [
        {
          "output_type": "stream",
          "name": "stdout",
          "text": [
            "Enter a number: 4\n",
            "Enter a number: 5\n",
            "Enter a number: bad data\n",
            "Invalid input\n",
            "Enter a number: 7\n",
            "Enter a number: done\n",
            "Total: 16.0 Count: 3 Average: 5.333333333333333\n"
          ]
        }
      ]
    },
    {
      "cell_type": "markdown",
      "source": [
        "#### Challenge 2  "
      ],
      "metadata": {
        "id": "bu_beq4njeH3"
      }
    },
    {
      "cell_type": "markdown",
      "source": [
        "Write another program that prompts for a list of numbers as above and at the end prints out both the maximum and minimum of the numbers instead of the average.\n",
        "\n",
        "[PEW] E5.2"
      ],
      "metadata": {
        "id": "1dj-A8IqjgR3"
      }
    },
    {
      "cell_type": "code",
      "source": [
        "largest = None\n",
        "smallest = None\n",
        "count = 0\n",
        "\n",
        "while True:\n",
        "    try:\n",
        "        number = float(input(\"Enter a number: \"))\n",
        "        if largest is None and smallest is None:\n",
        "            largest = number\n",
        "            smallest = number\n",
        "        elif number > largest:\n",
        "            largest = number\n",
        "        elif number < smallest:\n",
        "            smallest = number\n",
        "        count += 1\n",
        "    except:\n",
        "        print(\"Invalid input\")\n",
        "        continue\n",
        "\n",
        "    if input(\"Do you want to continue? (yes/no) \").lower() != \"yes\":\n",
        "        break\n",
        "\n",
        "print(\"The maximum number is: \", largest)\n",
        "print(\"The minimum number is: \", smallest)\n",
        "print(\"The count number is: \", count)"
      ],
      "metadata": {
        "colab": {
          "base_uri": "https://localhost:8080/"
        },
        "id": "EWhX5zwFrzW5",
        "outputId": "47311237-d85f-4847-f544-0faf5bce03af"
      },
      "execution_count": 1,
      "outputs": [
        {
          "output_type": "stream",
          "name": "stdout",
          "text": [
            "Enter a number: 6\n",
            "Do you want to continue? (yes/no) yes\n",
            "Enter a number: 9\n",
            "Do you want to continue? (yes/no) 8\n",
            "The maximum number is:  9.0\n",
            "The minimum number is:  6.0\n",
            "The count number is:  2\n"
          ]
        }
      ]
    },
    {
      "cell_type": "markdown",
      "source": [],
      "metadata": {
        "id": "5A7WQgvOjifn"
      }
    }
  ]
}